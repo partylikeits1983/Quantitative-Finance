{
 "cells": [
  {
   "cell_type": "code",
   "execution_count": null,
   "id": "ec121dad",
   "metadata": {},
   "outputs": [],
   "source": [
    "# Влияние вывоза капитала на экономику принимающей страны."
   ]
  },
  {
   "cell_type": "code",
   "execution_count": null,
   "id": "18c4fb83",
   "metadata": {},
   "outputs": [],
   "source": [
    "# The impact of the export of capital on the economy of the host country."
   ]
  },
  {
   "cell_type": "code",
   "execution_count": null,
   "id": "dda11b4d",
   "metadata": {},
   "outputs": [],
   "source": [
    "# https://eprints.soas.ac.uk/22537/1/Banaji_Grossman_excerpt.pdf"
   ]
  },
  {
   "cell_type": "code",
   "execution_count": null,
   "id": "3cdeb132",
   "metadata": {},
   "outputs": [],
   "source": [
    "# https://www.investopedia.com/terms/c/capital-outflow.asp#:~:text=Capital%20outflow%20is%20the%20movement,of%20political%20or%20economic%20instability."
   ]
  },
  {
   "cell_type": "code",
   "execution_count": null,
   "id": "c967da6e",
   "metadata": {},
   "outputs": [],
   "source": [
    "# https://webarchiv.ethz.ch/vwl/down/folien/Principles_Macro_08/Lecture09.pdf"
   ]
  },
  {
   "cell_type": "code",
   "execution_count": null,
   "id": "5f471312",
   "metadata": {},
   "outputs": [],
   "source": [
    "\"\"\"\n",
    "\n",
    "Capital outflow is the movement of assets out of a country. \n",
    "Capital outflow is considered undesirable as it is often the \n",
    "result of political or economic instability. The flight of assets\n",
    "occurs when foreign and domestic investors sell off their holdings \n",
    "in a particular country because of perceived weakness in the nation's \n",
    "economy and the belief that better opportunities exist abroad.\n",
    "\n",
    "\"\"\""
   ]
  },
  {
   "cell_type": "code",
   "execution_count": null,
   "id": "ede48f7c",
   "metadata": {},
   "outputs": [],
   "source": [
    "\"\"\"\n",
    "\n",
    "BOP = Current Account + Financial Account + Capital Account + Balancing item\n",
    "\n",
    "\"\"\""
   ]
  },
  {
   "cell_type": "code",
   "execution_count": null,
   "id": "4875af2c",
   "metadata": {},
   "outputs": [],
   "source": [
    "# if the supply of loanable funds increases => fed prints more money => \n",
    "# the fed buys treasury notes => gives the us gov free $ \n",
    "# "
   ]
  },
  {
   "cell_type": "code",
   "execution_count": null,
   "id": "098e637c",
   "metadata": {},
   "outputs": [],
   "source": [
    "# Money Market Chart "
   ]
  },
  {
   "cell_type": "code",
   "execution_count": null,
   "id": "3488bfa0",
   "metadata": {},
   "outputs": [],
   "source": []
  },
  {
   "cell_type": "code",
   "execution_count": null,
   "id": "afa0295e",
   "metadata": {},
   "outputs": [],
   "source": []
  },
  {
   "cell_type": "code",
   "execution_count": null,
   "id": "e7fc923a",
   "metadata": {},
   "outputs": [],
   "source": [
    "# interest rates and Ruble exchange rate "
   ]
  },
  {
   "cell_type": "code",
   "execution_count": null,
   "id": "2c008927",
   "metadata": {},
   "outputs": [],
   "source": [
    "# theory: as interest rates go up => ruble increases in value => negative correlation"
   ]
  },
  {
   "cell_type": "code",
   "execution_count": null,
   "id": "b09445aa",
   "metadata": {},
   "outputs": [],
   "source": []
  },
  {
   "cell_type": "code",
   "execution_count": null,
   "id": "313e198c",
   "metadata": {},
   "outputs": [],
   "source": [
    "# scrape data from CBRF \n",
    "# https://www.cbr.ru/statistics/avgprocstav/?UniDbQuery.Posted=True&UniDbQuery.From=3.07.2009&UniDbQuery.To=1.03.2022"
   ]
  },
  {
   "cell_type": "code",
   "execution_count": null,
   "id": "0a836021",
   "metadata": {},
   "outputs": [],
   "source": [
    "!pip3 install selenium"
   ]
  },
  {
   "cell_type": "code",
   "execution_count": 1,
   "id": "062d8db2",
   "metadata": {},
   "outputs": [],
   "source": [
    "import pandas as pd\n",
    "\n",
    "import pandas as pd\n",
    "import numpy as np\n",
    "from pandas_datareader import data as pdr\n",
    "import pandas as pd\n",
    "import yfinance as yf\n",
    "import yahoofinancials\n",
    "import seaborn as sns\n",
    "import datetime\n",
    "from datetime import date\n",
    "import matplotlib.pyplot as plt\n",
    "\n",
    "from scipy.ndimage.interpolation import zoom\n",
    "import numpy as np\n",
    "\n",
    "import requests\n",
    "import urllib.request\n",
    "import time\n",
    "from bs4 import BeautifulSoup\n",
    "from selenium import webdriver"
   ]
  },
  {
   "cell_type": "code",
   "execution_count": null,
   "id": "f1b2aa36",
   "metadata": {},
   "outputs": [],
   "source": []
  },
  {
   "cell_type": "code",
   "execution_count": 2,
   "id": "a2adffd9",
   "metadata": {},
   "outputs": [
    {
     "name": "stdout",
     "output_type": "stream",
     "text": [
      "[*********************100%***********************]  1 of 1 completed\n"
     ]
    }
   ],
   "source": [
    "# get USD/RUB historical data\n",
    "yf.pdr_override() \n",
    "df = pdr.get_data_yahoo(\"USDRUB=X\", start=\"2009-07-01\", end=\"2022-04-14\")"
   ]
  },
  {
   "cell_type": "code",
   "execution_count": null,
   "id": "c16fe712",
   "metadata": {},
   "outputs": [],
   "source": []
  },
  {
   "cell_type": "code",
   "execution_count": 3,
   "id": "fa2971c9",
   "metadata": {},
   "outputs": [],
   "source": [
    "#yield curve CBRF now\n",
    "url = 'https://www.cbr.ru/statistics/avgprocstav/?UniDbQuery.Posted=True&UniDbQuery.From=3.07.2009&UniDbQuery.To=1.03.2022'   \n",
    "\n",
    "# Connect to the URL\n",
    "response = requests.get(url)\n",
    "\n",
    "# Parse HTML and save to BeautifulSoup object¶\n",
    "soup = BeautifulSoup(response.text, \"html.parser\")"
   ]
  },
  {
   "cell_type": "code",
   "execution_count": 4,
   "id": "e98136ec",
   "metadata": {},
   "outputs": [],
   "source": [
    "raw = soup.findAll('td',{\"class\":\"\"})"
   ]
  },
  {
   "cell_type": "code",
   "execution_count": 5,
   "id": "765d6d3c",
   "metadata": {},
   "outputs": [],
   "source": [
    "index = []\n",
    "vals = []"
   ]
  },
  {
   "cell_type": "code",
   "execution_count": 6,
   "id": "f6c253db",
   "metadata": {},
   "outputs": [],
   "source": [
    "# separate index from vals in soup\n",
    "\n",
    "def separate(raw):\n",
    "    \n",
    "    for i in range(len(raw)):\n",
    "        \n",
    "        if i % 2 == 0:\n",
    "            index.append(raw[i].decode_contents())\n",
    "            \n",
    "        else:\n",
    "            vals.append(raw[i].decode_contents())\n",
    "    "
   ]
  },
  {
   "cell_type": "code",
   "execution_count": 7,
   "id": "449944ed",
   "metadata": {},
   "outputs": [],
   "source": [
    "separate(raw)"
   ]
  },
  {
   "cell_type": "code",
   "execution_count": 8,
   "id": "2525b59e",
   "metadata": {},
   "outputs": [],
   "source": [
    "# remove comma from string and convert to float\n",
    "\n",
    "rates = []\n",
    "\n",
    "def removeComma(x):\n",
    "    for i in range(len(vals)):\n",
    "    \n",
    "        y = float(vals[i].replace(',', \".\"))\n",
    "        \n",
    "        rates.append(y)"
   ]
  },
  {
   "cell_type": "code",
   "execution_count": 9,
   "id": "7206fb46",
   "metadata": {},
   "outputs": [],
   "source": [
    "removeComma(vals)"
   ]
  },
  {
   "cell_type": "code",
   "execution_count": 10,
   "id": "bc99c625",
   "metadata": {},
   "outputs": [],
   "source": [
    "#rates = rates[0::3]\n",
    "#rates[-1]"
   ]
  },
  {
   "cell_type": "code",
   "execution_count": null,
   "id": "826c1340",
   "metadata": {},
   "outputs": [],
   "source": []
  },
  {
   "cell_type": "code",
   "execution_count": 11,
   "id": "d7febf01",
   "metadata": {},
   "outputs": [],
   "source": [
    "# reversing data \n",
    "index=index[::-1]\n",
    "rates=rates[::-1]"
   ]
  },
  {
   "cell_type": "code",
   "execution_count": 12,
   "id": "decb72b1",
   "metadata": {},
   "outputs": [],
   "source": [
    "df1 = pd.DataFrame({'index': index, 'rates': rates})"
   ]
  },
  {
   "cell_type": "code",
   "execution_count": null,
   "id": "c2baf01e",
   "metadata": {},
   "outputs": [],
   "source": []
  },
  {
   "cell_type": "code",
   "execution_count": 13,
   "id": "a3fbf174",
   "metadata": {},
   "outputs": [],
   "source": [
    "# original array:\n",
    "x = df1[\"rates\"]\n",
    "\n",
    "# set resample ratio:\n",
    "resample_ratio = len(df) / len(x)\n",
    "\n",
    "# resample array:\n",
    "y = zoom(x, resample_ratio, order=0)"
   ]
  },
  {
   "cell_type": "code",
   "execution_count": 14,
   "id": "b9651828",
   "metadata": {},
   "outputs": [
    {
     "name": "stdout",
     "output_type": "stream",
     "text": [
      "3314\n",
      "3314\n"
     ]
    }
   ],
   "source": [
    "# sanity check\n",
    "print(len(y))\n",
    "print(len(df))"
   ]
  },
  {
   "cell_type": "code",
   "execution_count": 15,
   "id": "c31b22b5",
   "metadata": {},
   "outputs": [],
   "source": [
    "df1 = pd.DataFrame({'rates': y})"
   ]
  },
  {
   "cell_type": "code",
   "execution_count": 16,
   "id": "4e369e7a",
   "metadata": {
    "scrolled": true
   },
   "outputs": [
    {
     "data": {
      "text/plain": [
       "<AxesSubplot:>"
      ]
     },
     "execution_count": 16,
     "metadata": {},
     "output_type": "execute_result"
    },
    {
     "data": {
      "image/png": "[encoded data removed]",
      "text/plain": [
       "<Figure size 432x288 with 1 Axes>"
      ]
     },
     "metadata": {
      "needs_background": "light"
     },
     "output_type": "display_data"
    }
   ],
   "source": [
    "df1[\"rates\"].plot()"
   ]
  },
  {
   "cell_type": "code",
   "execution_count": null,
   "id": "a1f07912",
   "metadata": {},
   "outputs": [],
   "source": []
  },
  {
   "cell_type": "code",
   "execution_count": 17,
   "id": "c782122e",
   "metadata": {},
   "outputs": [
    {
     "data": {
      "text/html": [
       "<div>\n",
       "<style scoped>\n",
       "    .dataframe tbody tr th:only-of-type {\n",
       "        vertical-align: middle;\n",
       "    }\n",
       "\n",
       "    .dataframe tbody tr th {\n",
       "        vertical-align: top;\n",
       "    }\n",
       "\n",
       "    .dataframe thead th {\n",
       "        text-align: right;\n",
       "    }\n",
       "</style>\n",
       "<table border=\"1\" class=\"dataframe\">\n",
       "  <thead>\n",
       "    <tr style=\"text-align: right;\">\n",
       "      <th></th>\n",
       "      <th>rates</th>\n",
       "    </tr>\n",
       "  </thead>\n",
       "  <tbody>\n",
       "    <tr>\n",
       "      <th>0</th>\n",
       "      <td>14.840</td>\n",
       "    </tr>\n",
       "    <tr>\n",
       "      <th>1</th>\n",
       "      <td>14.840</td>\n",
       "    </tr>\n",
       "    <tr>\n",
       "      <th>2</th>\n",
       "      <td>14.840</td>\n",
       "    </tr>\n",
       "    <tr>\n",
       "      <th>3</th>\n",
       "      <td>14.840</td>\n",
       "    </tr>\n",
       "    <tr>\n",
       "      <th>4</th>\n",
       "      <td>14.840</td>\n",
       "    </tr>\n",
       "    <tr>\n",
       "      <th>...</th>\n",
       "      <td>...</td>\n",
       "    </tr>\n",
       "    <tr>\n",
       "      <th>3309</th>\n",
       "      <td>8.587</td>\n",
       "    </tr>\n",
       "    <tr>\n",
       "      <th>3310</th>\n",
       "      <td>20.510</td>\n",
       "    </tr>\n",
       "    <tr>\n",
       "      <th>3311</th>\n",
       "      <td>20.510</td>\n",
       "    </tr>\n",
       "    <tr>\n",
       "      <th>3312</th>\n",
       "      <td>20.510</td>\n",
       "    </tr>\n",
       "    <tr>\n",
       "      <th>3313</th>\n",
       "      <td>20.510</td>\n",
       "    </tr>\n",
       "  </tbody>\n",
       "</table>\n",
       "<p>3314 rows × 1 columns</p>\n",
       "</div>"
      ],
      "text/plain": [
       "       rates\n",
       "0     14.840\n",
       "1     14.840\n",
       "2     14.840\n",
       "3     14.840\n",
       "4     14.840\n",
       "...      ...\n",
       "3309   8.587\n",
       "3310  20.510\n",
       "3311  20.510\n",
       "3312  20.510\n",
       "3313  20.510\n",
       "\n",
       "[3314 rows x 1 columns]"
      ]
     },
     "execution_count": 17,
     "metadata": {},
     "output_type": "execute_result"
    }
   ],
   "source": [
    "df1"
   ]
  },
  {
   "cell_type": "code",
   "execution_count": null,
   "id": "9e73e145",
   "metadata": {},
   "outputs": [],
   "source": []
  },
  {
   "cell_type": "code",
   "execution_count": null,
   "id": "f3d53e5d",
   "metadata": {},
   "outputs": [],
   "source": []
  },
  {
   "cell_type": "code",
   "execution_count": 18,
   "id": "44251823",
   "metadata": {},
   "outputs": [
    {
     "data": {
      "text/plain": [
       "<AxesSubplot:xlabel='Date'>"
      ]
     },
     "execution_count": 18,
     "metadata": {},
     "output_type": "execute_result"
    },
    {
     "data": {
      "image/png": "[encoded data removed]",
      "text/plain": [
       "<Figure size 432x288 with 1 Axes>"
      ]
     },
     "metadata": {
      "needs_background": "light"
     },
     "output_type": "display_data"
    }
   ],
   "source": [
    "# drop outlier and plot\n",
    "df.at[\"2016-01-06\",\"Close\"] = 74\n",
    "df['Close'].plot()"
   ]
  },
  {
   "cell_type": "code",
   "execution_count": 21,
   "id": "7c4c1aed",
   "metadata": {},
   "outputs": [],
   "source": [
    "df['Rates'] = df1['rates'].values"
   ]
  },
  {
   "cell_type": "code",
   "execution_count": 22,
   "id": "cd1568c7",
   "metadata": {},
   "outputs": [],
   "source": [
    "df = df.drop(['Open', 'High', 'Low', 'Adj Close', 'Volume'], axis=1)"
   ]
  },
  {
   "cell_type": "code",
   "execution_count": null,
   "id": "6fb19f42",
   "metadata": {},
   "outputs": [],
   "source": []
  },
  {
   "cell_type": "code",
   "execution_count": null,
   "id": "6f3b8559",
   "metadata": {},
   "outputs": [],
   "source": []
  },
  {
   "cell_type": "code",
   "execution_count": 23,
   "id": "e269f645",
   "metadata": {},
   "outputs": [],
   "source": [
    "def plot_data(data_df, normalize,log_plot):\n",
    "    data_df = data_df.dropna()\n",
    "\n",
    "    # normalize df\n",
    "    if normalize == True:\n",
    "        data_df = (data_df - data_df.mean()) / data_df.std()\n",
    "    else:\n",
    "        pass\n",
    "\n",
    "    for column in data_df:\n",
    "\n",
    "        ax = data_df[column].plot(figsize=(14, 10), legend=True, logy=log_plot, grid=True)\n",
    "\n",
    "    ax.get_legend().set_bbox_to_anchor((1.3, 1))\n",
    "\n",
    "    #return data_df"
   ]
  },
  {
   "cell_type": "code",
   "execution_count": 24,
   "id": "becf9019",
   "metadata": {},
   "outputs": [
    {
     "data": {
      "image/png": "[encoded data removed]",
      "text/plain": [
       "<Figure size 1008x720 with 1 Axes>"
      ]
     },
     "metadata": {
      "needs_background": "light"
     },
     "output_type": "display_data"
    }
   ],
   "source": [
    "normalize = True\n",
    "log_plot = False\n",
    "\n",
    "plot_data(df, normalize, log_plot)"
   ]
  },
  {
   "cell_type": "code",
   "execution_count": null,
   "id": "ec1e982c",
   "metadata": {},
   "outputs": [],
   "source": []
  },
  {
   "cell_type": "code",
   "execution_count": 25,
   "id": "509f6b37",
   "metadata": {},
   "outputs": [
    {
     "data": {
      "text/html": [
       "<div>\n",
       "<style scoped>\n",
       "    .dataframe tbody tr th:only-of-type {\n",
       "        vertical-align: middle;\n",
       "    }\n",
       "\n",
       "    .dataframe tbody tr th {\n",
       "        vertical-align: top;\n",
       "    }\n",
       "\n",
       "    .dataframe thead th {\n",
       "        text-align: right;\n",
       "    }\n",
       "</style>\n",
       "<table border=\"1\" class=\"dataframe\">\n",
       "  <thead>\n",
       "    <tr style=\"text-align: right;\">\n",
       "      <th></th>\n",
       "      <th>Close</th>\n",
       "      <th>Rates</th>\n",
       "    </tr>\n",
       "  </thead>\n",
       "  <tbody>\n",
       "    <tr>\n",
       "      <th>Close</th>\n",
       "      <td>1.000000</td>\n",
       "      <td>-0.474907</td>\n",
       "    </tr>\n",
       "    <tr>\n",
       "      <th>Rates</th>\n",
       "      <td>-0.474907</td>\n",
       "      <td>1.000000</td>\n",
       "    </tr>\n",
       "  </tbody>\n",
       "</table>\n",
       "</div>"
      ],
      "text/plain": [
       "          Close     Rates\n",
       "Close  1.000000 -0.474907\n",
       "Rates -0.474907  1.000000"
      ]
     },
     "execution_count": 25,
     "metadata": {},
     "output_type": "execute_result"
    }
   ],
   "source": [
    "# calculate correlation without shift\n",
    "sum_corr = df.corr().sum().sort_values(ascending=True).index.values\n",
    "df[sum_corr].corr()"
   ]
  },
  {
   "cell_type": "code",
   "execution_count": 26,
   "id": "2e6edac9",
   "metadata": {},
   "outputs": [
    {
     "data": {
      "text/html": [
       "<div>\n",
       "<style scoped>\n",
       "    .dataframe tbody tr th:only-of-type {\n",
       "        vertical-align: middle;\n",
       "    }\n",
       "\n",
       "    .dataframe tbody tr th {\n",
       "        vertical-align: top;\n",
       "    }\n",
       "\n",
       "    .dataframe thead th {\n",
       "        text-align: right;\n",
       "    }\n",
       "</style>\n",
       "<table border=\"1\" class=\"dataframe\">\n",
       "  <thead>\n",
       "    <tr style=\"text-align: right;\">\n",
       "      <th></th>\n",
       "      <th>Close</th>\n",
       "      <th>Rates</th>\n",
       "    </tr>\n",
       "    <tr>\n",
       "      <th>Date</th>\n",
       "      <th></th>\n",
       "      <th></th>\n",
       "    </tr>\n",
       "  </thead>\n",
       "  <tbody>\n",
       "    <tr>\n",
       "      <th>2009-06-30</th>\n",
       "      <td>31.073999</td>\n",
       "      <td>14.840</td>\n",
       "    </tr>\n",
       "    <tr>\n",
       "      <th>2009-07-01</th>\n",
       "      <td>31.096300</td>\n",
       "      <td>14.840</td>\n",
       "    </tr>\n",
       "    <tr>\n",
       "      <th>2009-07-02</th>\n",
       "      <td>31.129000</td>\n",
       "      <td>14.840</td>\n",
       "    </tr>\n",
       "    <tr>\n",
       "      <th>2009-07-03</th>\n",
       "      <td>31.162001</td>\n",
       "      <td>14.840</td>\n",
       "    </tr>\n",
       "    <tr>\n",
       "      <th>2009-07-06</th>\n",
       "      <td>31.349001</td>\n",
       "      <td>14.840</td>\n",
       "    </tr>\n",
       "    <tr>\n",
       "      <th>...</th>\n",
       "      <td>...</td>\n",
       "      <td>...</td>\n",
       "    </tr>\n",
       "    <tr>\n",
       "      <th>2022-04-07</th>\n",
       "      <td>82.089996</td>\n",
       "      <td>8.587</td>\n",
       "    </tr>\n",
       "    <tr>\n",
       "      <th>2022-04-08</th>\n",
       "      <td>79.214996</td>\n",
       "      <td>20.510</td>\n",
       "    </tr>\n",
       "    <tr>\n",
       "      <th>2022-04-11</th>\n",
       "      <td>85.089996</td>\n",
       "      <td>20.510</td>\n",
       "    </tr>\n",
       "    <tr>\n",
       "      <th>2022-04-12</th>\n",
       "      <td>83.464996</td>\n",
       "      <td>20.510</td>\n",
       "    </tr>\n",
       "    <tr>\n",
       "      <th>2022-04-13</th>\n",
       "      <td>85.339996</td>\n",
       "      <td>20.510</td>\n",
       "    </tr>\n",
       "  </tbody>\n",
       "</table>\n",
       "<p>3314 rows × 2 columns</p>\n",
       "</div>"
      ],
      "text/plain": [
       "                Close   Rates\n",
       "Date                         \n",
       "2009-06-30  31.073999  14.840\n",
       "2009-07-01  31.096300  14.840\n",
       "2009-07-02  31.129000  14.840\n",
       "2009-07-03  31.162001  14.840\n",
       "2009-07-06  31.349001  14.840\n",
       "...               ...     ...\n",
       "2022-04-07  82.089996   8.587\n",
       "2022-04-08  79.214996  20.510\n",
       "2022-04-11  85.089996  20.510\n",
       "2022-04-12  83.464996  20.510\n",
       "2022-04-13  85.339996  20.510\n",
       "\n",
       "[3314 rows x 2 columns]"
      ]
     },
     "execution_count": 26,
     "metadata": {},
     "output_type": "execute_result"
    }
   ],
   "source": [
    "df"
   ]
  },
  {
   "cell_type": "code",
   "execution_count": 29,
   "id": "d944ef72",
   "metadata": {},
   "outputs": [
    {
     "data": {
      "image/png": "[encoded data removed]",
      "text/plain": [
       "<Figure size 1008x720 with 1 Axes>"
      ]
     },
     "metadata": {
      "needs_background": "light"
     },
     "output_type": "display_data"
    }
   ],
   "source": [
    "ax = df.plot.scatter(x='Rates', y='Close', c='DarkBlue', figsize=(14,10))\n",
    "\n",
    "ax.set_xlabel('Rates', fontsize=15)\n",
    "ax.set_ylabel(\"RUB\", fontsize=15)\n",
    "ax.set_title('USD/RUB Crude Oil Correlation')\n",
    "\n",
    "ax.grid(True)\n",
    "\n",
    "plt.savefig(\"correlation.png\")"
   ]
  },
  {
   "cell_type": "code",
   "execution_count": null,
   "id": "11ce02cd",
   "metadata": {},
   "outputs": [],
   "source": []
  },
  {
   "cell_type": "code",
   "execution_count": null,
   "id": "96230fb7",
   "metadata": {},
   "outputs": [],
   "source": []
  },
  {
   "cell_type": "code",
   "execution_count": 30,
   "id": "eadc9784",
   "metadata": {},
   "outputs": [
    {
     "data": {
      "text/html": [
       "<div>\n",
       "<style scoped>\n",
       "    .dataframe tbody tr th:only-of-type {\n",
       "        vertical-align: middle;\n",
       "    }\n",
       "\n",
       "    .dataframe tbody tr th {\n",
       "        vertical-align: top;\n",
       "    }\n",
       "\n",
       "    .dataframe thead th {\n",
       "        text-align: right;\n",
       "    }\n",
       "</style>\n",
       "<table border=\"1\" class=\"dataframe\">\n",
       "  <thead>\n",
       "    <tr style=\"text-align: right;\">\n",
       "      <th></th>\n",
       "      <th>Close</th>\n",
       "      <th>Rates</th>\n",
       "    </tr>\n",
       "  </thead>\n",
       "  <tbody>\n",
       "    <tr>\n",
       "      <th>count</th>\n",
       "      <td>3314.000000</td>\n",
       "      <td>3314.000000</td>\n",
       "    </tr>\n",
       "    <tr>\n",
       "      <th>mean</th>\n",
       "      <td>51.777005</td>\n",
       "      <td>8.475647</td>\n",
       "    </tr>\n",
       "    <tr>\n",
       "      <th>std</th>\n",
       "      <td>18.488422</td>\n",
       "      <td>2.335464</td>\n",
       "    </tr>\n",
       "    <tr>\n",
       "      <th>min</th>\n",
       "      <td>27.154900</td>\n",
       "      <td>4.326000</td>\n",
       "    </tr>\n",
       "    <tr>\n",
       "      <th>25%</th>\n",
       "      <td>31.414075</td>\n",
       "      <td>7.135000</td>\n",
       "    </tr>\n",
       "    <tr>\n",
       "      <th>50%</th>\n",
       "      <td>57.740850</td>\n",
       "      <td>8.400000</td>\n",
       "    </tr>\n",
       "    <tr>\n",
       "      <th>75%</th>\n",
       "      <td>65.950777</td>\n",
       "      <td>9.650000</td>\n",
       "    </tr>\n",
       "    <tr>\n",
       "      <th>max</th>\n",
       "      <td>138.965103</td>\n",
       "      <td>20.510000</td>\n",
       "    </tr>\n",
       "  </tbody>\n",
       "</table>\n",
       "</div>"
      ],
      "text/plain": [
       "             Close        Rates\n",
       "count  3314.000000  3314.000000\n",
       "mean     51.777005     8.475647\n",
       "std      18.488422     2.335464\n",
       "min      27.154900     4.326000\n",
       "25%      31.414075     7.135000\n",
       "50%      57.740850     8.400000\n",
       "75%      65.950777     9.650000\n",
       "max     138.965103    20.510000"
      ]
     },
     "execution_count": 30,
     "metadata": {},
     "output_type": "execute_result"
    }
   ],
   "source": [
    "df.describe()"
   ]
  },
  {
   "cell_type": "code",
   "execution_count": 37,
   "id": "414dedea",
   "metadata": {},
   "outputs": [],
   "source": [
    "df = df.iloc[1000:3000]"
   ]
  },
  {
   "cell_type": "code",
   "execution_count": 38,
   "id": "fbe627c5",
   "metadata": {},
   "outputs": [
    {
     "data": {
      "text/html": [
       "<div>\n",
       "<style scoped>\n",
       "    .dataframe tbody tr th:only-of-type {\n",
       "        vertical-align: middle;\n",
       "    }\n",
       "\n",
       "    .dataframe tbody tr th {\n",
       "        vertical-align: top;\n",
       "    }\n",
       "\n",
       "    .dataframe thead th {\n",
       "        text-align: right;\n",
       "    }\n",
       "</style>\n",
       "<table border=\"1\" class=\"dataframe\">\n",
       "  <thead>\n",
       "    <tr style=\"text-align: right;\">\n",
       "      <th></th>\n",
       "      <th>Close</th>\n",
       "      <th>Rates</th>\n",
       "    </tr>\n",
       "    <tr>\n",
       "      <th>Date</th>\n",
       "      <th></th>\n",
       "      <th></th>\n",
       "    </tr>\n",
       "  </thead>\n",
       "  <tbody>\n",
       "    <tr>\n",
       "      <th>2015-04-23</th>\n",
       "      <td>51.799999</td>\n",
       "      <td>12.975</td>\n",
       "    </tr>\n",
       "    <tr>\n",
       "      <th>2015-04-24</th>\n",
       "      <td>50.810001</td>\n",
       "      <td>12.975</td>\n",
       "    </tr>\n",
       "    <tr>\n",
       "      <th>2015-04-27</th>\n",
       "      <td>50.859001</td>\n",
       "      <td>12.975</td>\n",
       "    </tr>\n",
       "    <tr>\n",
       "      <th>2015-04-28</th>\n",
       "      <td>51.903000</td>\n",
       "      <td>12.975</td>\n",
       "    </tr>\n",
       "    <tr>\n",
       "      <th>2015-04-29</th>\n",
       "      <td>51.099998</td>\n",
       "      <td>12.975</td>\n",
       "    </tr>\n",
       "    <tr>\n",
       "      <th>...</th>\n",
       "      <td>...</td>\n",
       "      <td>...</td>\n",
       "    </tr>\n",
       "    <tr>\n",
       "      <th>2021-01-22</th>\n",
       "      <td>73.947701</td>\n",
       "      <td>4.486</td>\n",
       "    </tr>\n",
       "    <tr>\n",
       "      <th>2021-01-25</th>\n",
       "      <td>75.314903</td>\n",
       "      <td>4.486</td>\n",
       "    </tr>\n",
       "    <tr>\n",
       "      <th>2021-01-26</th>\n",
       "      <td>75.282204</td>\n",
       "      <td>4.486</td>\n",
       "    </tr>\n",
       "    <tr>\n",
       "      <th>2021-01-27</th>\n",
       "      <td>75.070099</td>\n",
       "      <td>4.486</td>\n",
       "    </tr>\n",
       "    <tr>\n",
       "      <th>2021-01-28</th>\n",
       "      <td>75.873398</td>\n",
       "      <td>4.486</td>\n",
       "    </tr>\n",
       "  </tbody>\n",
       "</table>\n",
       "<p>1500 rows × 2 columns</p>\n",
       "</div>"
      ],
      "text/plain": [
       "                Close   Rates\n",
       "Date                         \n",
       "2015-04-23  51.799999  12.975\n",
       "2015-04-24  50.810001  12.975\n",
       "2015-04-27  50.859001  12.975\n",
       "2015-04-28  51.903000  12.975\n",
       "2015-04-29  51.099998  12.975\n",
       "...               ...     ...\n",
       "2021-01-22  73.947701   4.486\n",
       "2021-01-25  75.314903   4.486\n",
       "2021-01-26  75.282204   4.486\n",
       "2021-01-27  75.070099   4.486\n",
       "2021-01-28  75.873398   4.486\n",
       "\n",
       "[1500 rows x 2 columns]"
      ]
     },
     "execution_count": 38,
     "metadata": {},
     "output_type": "execute_result"
    }
   ],
   "source": [
    "df"
   ]
  },
  {
   "cell_type": "code",
   "execution_count": 39,
   "id": "af4d603f",
   "metadata": {},
   "outputs": [
    {
     "data": {
      "image/png": "[encoded data removed]",
      "text/plain": [
       "<Figure size 1008x720 with 1 Axes>"
      ]
     },
     "metadata": {
      "needs_background": "light"
     },
     "output_type": "display_data"
    }
   ],
   "source": [
    "ax = df.plot.scatter(x='Rates', y='Close', c='DarkBlue', figsize=(14,10))\n",
    "\n",
    "ax.set_xlabel('Rates', fontsize=15)\n",
    "ax.set_ylabel(\"RUB\", fontsize=15)\n",
    "ax.set_title('USD/RUB Crude Oil Correlation')\n",
    "\n",
    "ax.grid(True)\n",
    "\n",
    "plt.savefig(\"correlation.png\")"
   ]
  },
  {
   "cell_type": "code",
   "execution_count": 40,
   "id": "b4eddd88",
   "metadata": {},
   "outputs": [
    {
     "data": {
      "text/html": [
       "<div>\n",
       "<style scoped>\n",
       "    .dataframe tbody tr th:only-of-type {\n",
       "        vertical-align: middle;\n",
       "    }\n",
       "\n",
       "    .dataframe tbody tr th {\n",
       "        vertical-align: top;\n",
       "    }\n",
       "\n",
       "    .dataframe thead th {\n",
       "        text-align: right;\n",
       "    }\n",
       "</style>\n",
       "<table border=\"1\" class=\"dataframe\">\n",
       "  <thead>\n",
       "    <tr style=\"text-align: right;\">\n",
       "      <th></th>\n",
       "      <th>Close</th>\n",
       "      <th>Rates</th>\n",
       "    </tr>\n",
       "  </thead>\n",
       "  <tbody>\n",
       "    <tr>\n",
       "      <th>Close</th>\n",
       "      <td>1.000000</td>\n",
       "      <td>-0.430614</td>\n",
       "    </tr>\n",
       "    <tr>\n",
       "      <th>Rates</th>\n",
       "      <td>-0.430614</td>\n",
       "      <td>1.000000</td>\n",
       "    </tr>\n",
       "  </tbody>\n",
       "</table>\n",
       "</div>"
      ],
      "text/plain": [
       "          Close     Rates\n",
       "Close  1.000000 -0.430614\n",
       "Rates -0.430614  1.000000"
      ]
     },
     "execution_count": 40,
     "metadata": {},
     "output_type": "execute_result"
    }
   ],
   "source": [
    "# calculate correlation without shift\n",
    "sum_corr = df.corr().sum().sort_values(ascending=True).index.values\n",
    "df[sum_corr].corr()"
   ]
  },
  {
   "cell_type": "code",
   "execution_count": null,
   "id": "b3106aad",
   "metadata": {},
   "outputs": [],
   "source": []
  },
  {
   "cell_type": "code",
   "execution_count": 41,
   "id": "97d29032",
   "metadata": {},
   "outputs": [
    {
     "data": {
      "image/png": "[encoded data removed]",
      "text/plain": [
       "<Figure size 1008x720 with 1 Axes>"
      ]
     },
     "metadata": {
      "needs_background": "light"
     },
     "output_type": "display_data"
    }
   ],
   "source": [
    "normalize = True\n",
    "log_plot = False\n",
    "\n",
    "plot_data(df, normalize, log_plot)"
   ]
  },
  {
   "cell_type": "code",
   "execution_count": null,
   "id": "51011f6f",
   "metadata": {},
   "outputs": [],
   "source": []
  },
  {
   "cell_type": "code",
   "execution_count": null,
   "id": "76c4dcc5",
   "metadata": {},
   "outputs": [],
   "source": []
  },
  {
   "cell_type": "code",
   "execution_count": null,
   "id": "e1dd6ae2",
   "metadata": {},
   "outputs": [],
   "source": []
  },
  {
   "cell_type": "code",
   "execution_count": null,
   "id": "4aed6e07",
   "metadata": {},
   "outputs": [],
   "source": []
  },
  {
   "cell_type": "code",
   "execution_count": null,
   "id": "45805e90",
   "metadata": {},
   "outputs": [],
   "source": [
    "# correlation to Captital outflow (BOP) to other indicators such as interest rates & exchange rates\n",
    "# https://www.cbr.ru/vfs/eng/statistics/credit_statistics/direct_investment/21e-dir_inv.xlsx"
   ]
  },
  {
   "cell_type": "code",
   "execution_count": null,
   "id": "a3e6622e",
   "metadata": {},
   "outputs": [],
   "source": [
    "# Hypothesis: it will be a positive correlation in regards to rate of change \n",
    "\n",
    "# when USD/RUB % change == +  =>  capital inflow is + \n",
    "\n",
    "\n",
    "# Yes, as the exchange rate goes up, it becomes more expensive for investors to buy \n",
    "# rubles, however, as the exchange rate goes up, so does confidence in the \n",
    "# russian economy. \n",
    "\n",
    "\n",
    "# logically however, the correlation would be inverse because, investors get a good \n",
    "# deal on Russian assets when the Ruble is weaker to the dollar. \n",
    "\n"
   ]
  },
  {
   "cell_type": "code",
   "execution_count": null,
   "id": "b73688ff",
   "metadata": {},
   "outputs": [],
   "source": []
  },
  {
   "cell_type": "code",
   "execution_count": null,
   "id": "0deb910f",
   "metadata": {},
   "outputs": [],
   "source": []
  },
  {
   "cell_type": "code",
   "execution_count": null,
   "id": "132987e3",
   "metadata": {},
   "outputs": [],
   "source": []
  },
  {
   "cell_type": "code",
   "execution_count": null,
   "id": "d64c19cb",
   "metadata": {},
   "outputs": [],
   "source": []
  },
  {
   "cell_type": "code",
   "execution_count": null,
   "id": "ab515d6a",
   "metadata": {},
   "outputs": [],
   "source": []
  },
  {
   "cell_type": "code",
   "execution_count": null,
   "id": "81ed7345",
   "metadata": {},
   "outputs": [],
   "source": []
  },
  {
   "cell_type": "code",
   "execution_count": 114,
   "id": "84d8f796",
   "metadata": {},
   "outputs": [],
   "source": [
    "df = pd.read_csv(\"DI_CBRF.csv\")\n",
    "df = df.T"
   ]
  },
  {
   "cell_type": "code",
   "execution_count": 124,
   "id": "b00c0ee4",
   "metadata": {},
   "outputs": [
    {
     "data": {
      "text/html": [
       "<div>\n",
       "<style scoped>\n",
       "    .dataframe tbody tr th:only-of-type {\n",
       "        vertical-align: middle;\n",
       "    }\n",
       "\n",
       "    .dataframe tbody tr th {\n",
       "        vertical-align: top;\n",
       "    }\n",
       "\n",
       "    .dataframe thead th {\n",
       "        text-align: right;\n",
       "    }\n",
       "</style>\n",
       "<table border=\"1\" class=\"dataframe\">\n",
       "  <thead>\n",
       "    <tr style=\"text-align: right;\">\n",
       "      <th></th>\n",
       "      <th>0</th>\n",
       "    </tr>\n",
       "  </thead>\n",
       "  <tbody>\n",
       "    <tr>\n",
       "      <th>Q1 1994</th>\n",
       "      <td>-67</td>\n",
       "    </tr>\n",
       "    <tr>\n",
       "      <th>Q2 1994</th>\n",
       "      <td>-51</td>\n",
       "    </tr>\n",
       "    <tr>\n",
       "      <th>Q3 1994</th>\n",
       "      <td>-52</td>\n",
       "    </tr>\n",
       "    <tr>\n",
       "      <th>Q4 1994</th>\n",
       "      <td>-209</td>\n",
       "    </tr>\n",
       "    <tr>\n",
       "      <th>Q1 1995</th>\n",
       "      <td>-70</td>\n",
       "    </tr>\n",
       "  </tbody>\n",
       "</table>\n",
       "</div>"
      ],
      "text/plain": [
       "            0\n",
       "Q1 1994   -67\n",
       "Q2 1994   -51\n",
       "Q3 1994   -52\n",
       "Q4 1994  -209\n",
       "Q1 1995   -70"
      ]
     },
     "execution_count": 124,
     "metadata": {},
     "output_type": "execute_result"
    }
   ],
   "source": [
    "df.head()"
   ]
  },
  {
   "cell_type": "code",
   "execution_count": 116,
   "id": "0d9ee8f3",
   "metadata": {},
   "outputs": [],
   "source": [
    "df.drop(index=df.iloc[4::5].index.tolist(), inplace=True)"
   ]
  },
  {
   "cell_type": "code",
   "execution_count": 123,
   "id": "c984bc5c",
   "metadata": {},
   "outputs": [
    {
     "data": {
      "text/html": [
       "<div>\n",
       "<style scoped>\n",
       "    .dataframe tbody tr th:only-of-type {\n",
       "        vertical-align: middle;\n",
       "    }\n",
       "\n",
       "    .dataframe tbody tr th {\n",
       "        vertical-align: top;\n",
       "    }\n",
       "\n",
       "    .dataframe thead th {\n",
       "        text-align: right;\n",
       "    }\n",
       "</style>\n",
       "<table border=\"1\" class=\"dataframe\">\n",
       "  <thead>\n",
       "    <tr style=\"text-align: right;\">\n",
       "      <th></th>\n",
       "      <th>0</th>\n",
       "    </tr>\n",
       "  </thead>\n",
       "  <tbody>\n",
       "    <tr>\n",
       "      <th>Q1 1994</th>\n",
       "      <td>-67</td>\n",
       "    </tr>\n",
       "    <tr>\n",
       "      <th>Q2 1994</th>\n",
       "      <td>-51</td>\n",
       "    </tr>\n",
       "    <tr>\n",
       "      <th>Q3 1994</th>\n",
       "      <td>-52</td>\n",
       "    </tr>\n",
       "    <tr>\n",
       "      <th>Q4 1994</th>\n",
       "      <td>-209</td>\n",
       "    </tr>\n",
       "    <tr>\n",
       "      <th>Q1 1995</th>\n",
       "      <td>-70</td>\n",
       "    </tr>\n",
       "  </tbody>\n",
       "</table>\n",
       "</div>"
      ],
      "text/plain": [
       "            0\n",
       "Q1 1994   -67\n",
       "Q2 1994   -51\n",
       "Q3 1994   -52\n",
       "Q4 1994  -209\n",
       "Q1 1995   -70"
      ]
     },
     "execution_count": 123,
     "metadata": {},
     "output_type": "execute_result"
    }
   ],
   "source": [
    "df.head()"
   ]
  },
  {
   "cell_type": "code",
   "execution_count": null,
   "id": "55db96ff",
   "metadata": {},
   "outputs": [],
   "source": []
  },
  {
   "cell_type": "code",
   "execution_count": null,
   "id": "5a7a6fb5",
   "metadata": {},
   "outputs": [],
   "source": []
  },
  {
   "cell_type": "code",
   "execution_count": null,
   "id": "cafcb9d0",
   "metadata": {},
   "outputs": [],
   "source": []
  },
  {
   "cell_type": "code",
   "execution_count": null,
   "id": "291c2bc7",
   "metadata": {},
   "outputs": [],
   "source": []
  },
  {
   "cell_type": "code",
   "execution_count": null,
   "id": "0a38feb1",
   "metadata": {},
   "outputs": [],
   "source": [
    "df.to_csv(\"test.csv\")"
   ]
  },
  {
   "cell_type": "code",
   "execution_count": null,
   "id": "40d334dd",
   "metadata": {},
   "outputs": [],
   "source": []
  },
  {
   "cell_type": "code",
   "execution_count": null,
   "id": "86d04473",
   "metadata": {},
   "outputs": [],
   "source": []
  },
  {
   "cell_type": "code",
   "execution_count": null,
   "id": "c1e710bb",
   "metadata": {},
   "outputs": [],
   "source": []
  },
  {
   "cell_type": "code",
   "execution_count": null,
   "id": "229e3421",
   "metadata": {},
   "outputs": [],
   "source": []
  },
  {
   "cell_type": "code",
   "execution_count": null,
   "id": "50210fd6",
   "metadata": {},
   "outputs": [],
   "source": []
  },
  {
   "cell_type": "code",
   "execution_count": null,
   "id": "dd69cbda",
   "metadata": {},
   "outputs": [],
   "source": []
  },
  {
   "cell_type": "code",
   "execution_count": null,
   "id": "9ed3733e",
   "metadata": {},
   "outputs": [],
   "source": [
    "from datetime import datetime\n",
    "\n",
    "def diff_month(d1, d2):\n",
    "    return (d2.year - d1.year) * 365 + d2.day - d1.day\n",
    "\n",
    "diff_month(datetime(2009,6,30),datetime(2016,1,1))"
   ]
  },
  {
   "cell_type": "code",
   "execution_count": null,
   "id": "95977263",
   "metadata": {},
   "outputs": [],
   "source": []
  },
  {
   "cell_type": "code",
   "execution_count": null,
   "id": "54a148d0",
   "metadata": {},
   "outputs": [],
   "source": [
    "# correlation to Captital outflow (BOP) to other indicators such as interest rates & exchange rates"
   ]
  },
  {
   "cell_type": "code",
   "execution_count": null,
   "id": "ea92d935",
   "metadata": {},
   "outputs": [],
   "source": []
  },
  {
   "cell_type": "code",
   "execution_count": null,
   "id": "21a47d62",
   "metadata": {},
   "outputs": [],
   "source": [
    "# correlation of Captial outflow to GDP to Debt Ratio (more macro economic long term )"
   ]
  }
 ],
 "metadata": {
  "kernelspec": {
   "display_name": "Python 3",
   "language": "python",
   "name": "python3"
  },
  "language_info": {
   "codemirror_mode": {
    "name": "ipython",
    "version": 3
   },
   "file_extension": ".py",
   "mimetype": "text/x-python",
   "name": "python",
   "nbconvert_exporter": "python",
   "pygments_lexer": "ipython3",
   "version": "3.8.10"
  }
 },
 "nbformat": 4,
 "nbformat_minor": 5
}
