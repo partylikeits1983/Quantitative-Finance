{
 "cells": [
  {
   "cell_type": "code",
   "execution_count": 1,
   "id": "c49c5e50",
   "metadata": {},
   "outputs": [],
   "source": [
    "import pandas as pd\n",
    "import numpy as np\n",
    "from pandas_datareader import data as pdr\n",
    "import pandas as pd\n",
    "import yfinance as yf\n",
    "import yahoofinancials\n",
    "import seaborn as sns\n",
    "import datetime\n",
    "from datetime import date\n",
    "import matplotlib.pyplot as plt"
   ]
  },
  {
   "cell_type": "code",
   "execution_count": null,
   "id": "ccb63273",
   "metadata": {},
   "outputs": [],
   "source": []
  },
  {
   "cell_type": "code",
   "execution_count": 10,
   "id": "3727cbab",
   "metadata": {},
   "outputs": [
    {
     "name": "stdout",
     "output_type": "stream",
     "text": [
      "2022-04-02\n"
     ]
    }
   ],
   "source": [
    "today = str(date.today())\n",
    "print(today)"
   ]
  },
  {
   "cell_type": "code",
   "execution_count": 24,
   "id": "4e46a39b",
   "metadata": {},
   "outputs": [
    {
     "name": "stdout",
     "output_type": "stream",
     "text": [
      "[*********************100%***********************]  1 of 1 completed\n",
      "[*********************100%***********************]  1 of 1 completed\n"
     ]
    }
   ],
   "source": [
    "# one way to download historical data...\n",
    "yf.pdr_override() \n",
    "df = pdr.get_data_yahoo(\"RUB=X\", start=\"2021-01-01\", end=today)\n",
    "df1 = pdr.get_data_yahoo(\"CL=F\", start=\"2021-01-01\", end=today)"
   ]
  },
  {
   "cell_type": "code",
   "execution_count": 25,
   "id": "22873049",
   "metadata": {},
   "outputs": [
    {
     "data": {
      "text/html": [
       "<div>\n",
       "<style scoped>\n",
       "    .dataframe tbody tr th:only-of-type {\n",
       "        vertical-align: middle;\n",
       "    }\n",
       "\n",
       "    .dataframe tbody tr th {\n",
       "        vertical-align: top;\n",
       "    }\n",
       "\n",
       "    .dataframe thead th {\n",
       "        text-align: right;\n",
       "    }\n",
       "</style>\n",
       "<table border=\"1\" class=\"dataframe\">\n",
       "  <thead>\n",
       "    <tr style=\"text-align: right;\">\n",
       "      <th></th>\n",
       "      <th>Open</th>\n",
       "      <th>High</th>\n",
       "      <th>Low</th>\n",
       "      <th>Close</th>\n",
       "      <th>Adj Close</th>\n",
       "      <th>Volume</th>\n",
       "    </tr>\n",
       "    <tr>\n",
       "      <th>Date</th>\n",
       "      <th></th>\n",
       "      <th></th>\n",
       "      <th></th>\n",
       "      <th></th>\n",
       "      <th></th>\n",
       "      <th></th>\n",
       "    </tr>\n",
       "  </thead>\n",
       "  <tbody>\n",
       "    <tr>\n",
       "      <th>2020-12-31</th>\n",
       "      <td>74.181602</td>\n",
       "      <td>75.239998</td>\n",
       "      <td>73.699997</td>\n",
       "      <td>74.522003</td>\n",
       "      <td>74.522003</td>\n",
       "      <td>0</td>\n",
       "    </tr>\n",
       "    <tr>\n",
       "      <th>2021-01-01</th>\n",
       "      <td>73.911201</td>\n",
       "      <td>73.911201</td>\n",
       "      <td>73.910004</td>\n",
       "      <td>73.911201</td>\n",
       "      <td>73.911201</td>\n",
       "      <td>0</td>\n",
       "    </tr>\n",
       "    <tr>\n",
       "      <th>2021-01-04</th>\n",
       "      <td>74.342598</td>\n",
       "      <td>74.485703</td>\n",
       "      <td>73.042503</td>\n",
       "      <td>74.127403</td>\n",
       "      <td>74.127403</td>\n",
       "      <td>0</td>\n",
       "    </tr>\n",
       "    <tr>\n",
       "      <th>2021-01-05</th>\n",
       "      <td>74.464996</td>\n",
       "      <td>75.172997</td>\n",
       "      <td>73.959099</td>\n",
       "      <td>74.475403</td>\n",
       "      <td>74.475403</td>\n",
       "      <td>0</td>\n",
       "    </tr>\n",
       "    <tr>\n",
       "      <th>2021-01-06</th>\n",
       "      <td>74.213997</td>\n",
       "      <td>74.216301</td>\n",
       "      <td>73.411003</td>\n",
       "      <td>74.135101</td>\n",
       "      <td>74.135101</td>\n",
       "      <td>0</td>\n",
       "    </tr>\n",
       "  </tbody>\n",
       "</table>\n",
       "</div>"
      ],
      "text/plain": [
       "                 Open       High        Low      Close  Adj Close  Volume\n",
       "Date                                                                     \n",
       "2020-12-31  74.181602  75.239998  73.699997  74.522003  74.522003       0\n",
       "2021-01-01  73.911201  73.911201  73.910004  73.911201  73.911201       0\n",
       "2021-01-04  74.342598  74.485703  73.042503  74.127403  74.127403       0\n",
       "2021-01-05  74.464996  75.172997  73.959099  74.475403  74.475403       0\n",
       "2021-01-06  74.213997  74.216301  73.411003  74.135101  74.135101       0"
      ]
     },
     "execution_count": 25,
     "metadata": {},
     "output_type": "execute_result"
    }
   ],
   "source": [
    "df.head(5)"
   ]
  },
  {
   "cell_type": "code",
   "execution_count": null,
   "id": "dbd6f793",
   "metadata": {},
   "outputs": [],
   "source": []
  },
  {
   "cell_type": "code",
   "execution_count": 26,
   "id": "b79291e0",
   "metadata": {},
   "outputs": [],
   "source": [
    "##### cleaner way to import data from Yahoo Finance\n",
    "today = date.today()\n",
    "d = datetime.timedelta(days=100)\n",
    "start = today - d"
   ]
  },
  {
   "cell_type": "code",
   "execution_count": 27,
   "id": "d7def615",
   "metadata": {},
   "outputs": [],
   "source": [
    "def plot_tickers(tickers, start, end, interval, track, log_plot, normalize):\n",
    "    data_df = yf.download(tickers,\n",
    "                          start=start,\n",
    "                          end=end,\n",
    "                          interval=interval,\n",
    "                          progress=False)\n",
    "\n",
    "    # Drop any NaNs \n",
    "    data_df = data_df.dropna()\n",
    "\n",
    "    # normalize df\n",
    "    if normalize == True:\n",
    "        data_df = (data_df - data_df.mean()) / data_df.std()\n",
    "    else:\n",
    "        pass\n",
    "\n",
    "    # Plot tickers\n",
    "    ticker_list = tickers.split(' ')\n",
    "\n",
    "    for ticker in ticker_list:\n",
    "        if ticker == 'BTC-USD':  \n",
    "            ax = data_df[track, ticker].plot(secondary_y=True, figsize=(14, 10), legend=True, logy=log_plot, grid=True)\n",
    "        else:\n",
    "            ax = data_df[track, ticker].plot(figsize=(14, 10), legend=True, logy=log_plot, grid=True)\n",
    "\n",
    "    ax.get_legend().set_bbox_to_anchor((1.3, 1))\n",
    "\n",
    "    return data_df\n",
    "\n",
    "\n",
    "def calc_correlation(data_df, track):\n",
    "    # Get correlation and sort by sum\n",
    "    sum_corr = data_df[track].corr().sum().sort_values(ascending=True).index.values\n",
    "\n",
    "    data_df[track][sum_corr].corr()\n",
    "\n",
    "    # Call the df with the list from summed correlation, sorted ascending.\n",
    "    plt.figure(figsize=(13, 8))\n",
    "    ax = sns.heatmap(data_df[track][sum_corr].corr(),\n",
    "                     annot=True,\n",
    "                     cmap=\"Blues\")\n",
    "\n",
    "    bottom, top = ax.get_ylim()\n",
    "    ax.set_ylim(bottom + 0.5, top - 0.5)"
   ]
  },
  {
   "cell_type": "code",
   "execution_count": 28,
   "id": "62fa05c5",
   "metadata": {
    "scrolled": true
   },
   "outputs": [],
   "source": [
    "# Enter tickers to plot/compare\n",
    "tickers = 'RUB=X CL=F'\n",
    "\n",
    "# Timeframe\n",
    "start = '{}'.format(start)\n",
    "end = '{}'.format(today)\n",
    "\n",
    "# Time interval: can be 1m, 1h, 1d\n",
    "interval = '1h'\n",
    "\n",
    "# key to track: 'Open', 'High', 'Low', 'Close', 'Adj Close', 'Volume'\n",
    "track = 'Close'\n",
    "\n",
    "# plot options\n",
    "log_plot = False\n",
    "normalize = False"
   ]
  },
  {
   "cell_type": "code",
   "execution_count": 29,
   "id": "78d2d32f",
   "metadata": {},
   "outputs": [
    {
     "data": {
      "image/png": "[encoded data removed]",
      "text/plain": [
       "<Figure size 1008x720 with 1 Axes>"
      ]
     },
     "metadata": {
      "needs_background": "light"
     },
     "output_type": "display_data"
    }
   ],
   "source": [
    "data_df = plot_tickers(tickers, start, end, interval, track, log_plot, normalize)"
   ]
  },
  {
   "cell_type": "code",
   "execution_count": 30,
   "id": "20570c70",
   "metadata": {},
   "outputs": [
    {
     "data": {
      "text/html": [
       "<div>\n",
       "<style scoped>\n",
       "    .dataframe tbody tr th:only-of-type {\n",
       "        vertical-align: middle;\n",
       "    }\n",
       "\n",
       "    .dataframe tbody tr th {\n",
       "        vertical-align: top;\n",
       "    }\n",
       "\n",
       "    .dataframe thead tr th {\n",
       "        text-align: left;\n",
       "    }\n",
       "</style>\n",
       "<table border=\"1\" class=\"dataframe\">\n",
       "  <thead>\n",
       "    <tr>\n",
       "      <th></th>\n",
       "      <th colspan=\"2\" halign=\"left\">Adj Close</th>\n",
       "      <th colspan=\"2\" halign=\"left\">Close</th>\n",
       "      <th colspan=\"2\" halign=\"left\">High</th>\n",
       "      <th colspan=\"2\" halign=\"left\">Low</th>\n",
       "      <th colspan=\"2\" halign=\"left\">Open</th>\n",
       "      <th colspan=\"2\" halign=\"left\">Volume</th>\n",
       "    </tr>\n",
       "    <tr>\n",
       "      <th></th>\n",
       "      <th>CL=F</th>\n",
       "      <th>RUB=X</th>\n",
       "      <th>CL=F</th>\n",
       "      <th>RUB=X</th>\n",
       "      <th>CL=F</th>\n",
       "      <th>RUB=X</th>\n",
       "      <th>CL=F</th>\n",
       "      <th>RUB=X</th>\n",
       "      <th>CL=F</th>\n",
       "      <th>RUB=X</th>\n",
       "      <th>CL=F</th>\n",
       "      <th>RUB=X</th>\n",
       "    </tr>\n",
       "  </thead>\n",
       "  <tbody>\n",
       "    <tr>\n",
       "      <th>2021-12-22 21:00:00+00:00</th>\n",
       "      <td>73.029999</td>\n",
       "      <td>73.623100</td>\n",
       "      <td>73.029999</td>\n",
       "      <td>73.623100</td>\n",
       "      <td>73.160004</td>\n",
       "      <td>73.724998</td>\n",
       "      <td>72.900002</td>\n",
       "      <td>73.569000</td>\n",
       "      <td>72.959999</td>\n",
       "      <td>73.720802</td>\n",
       "      <td>0.0</td>\n",
       "      <td>0.0</td>\n",
       "    </tr>\n",
       "    <tr>\n",
       "      <th>2021-12-22 23:00:00+00:00</th>\n",
       "      <td>73.080002</td>\n",
       "      <td>73.599297</td>\n",
       "      <td>73.080002</td>\n",
       "      <td>73.599297</td>\n",
       "      <td>73.209999</td>\n",
       "      <td>73.654099</td>\n",
       "      <td>72.949997</td>\n",
       "      <td>73.421997</td>\n",
       "      <td>73.029999</td>\n",
       "      <td>73.629204</td>\n",
       "      <td>0.0</td>\n",
       "      <td>0.0</td>\n",
       "    </tr>\n",
       "    <tr>\n",
       "      <th>2021-12-23 00:00:00+00:00</th>\n",
       "      <td>72.919998</td>\n",
       "      <td>73.618698</td>\n",
       "      <td>72.919998</td>\n",
       "      <td>73.618698</td>\n",
       "      <td>73.089996</td>\n",
       "      <td>73.661598</td>\n",
       "      <td>72.870003</td>\n",
       "      <td>73.570000</td>\n",
       "      <td>73.080002</td>\n",
       "      <td>73.572998</td>\n",
       "      <td>1998.0</td>\n",
       "      <td>0.0</td>\n",
       "    </tr>\n",
       "    <tr>\n",
       "      <th>2021-12-23 01:00:00+00:00</th>\n",
       "      <td>73.080002</td>\n",
       "      <td>73.599998</td>\n",
       "      <td>73.080002</td>\n",
       "      <td>73.599998</td>\n",
       "      <td>73.269997</td>\n",
       "      <td>73.648598</td>\n",
       "      <td>72.839996</td>\n",
       "      <td>73.582001</td>\n",
       "      <td>72.930000</td>\n",
       "      <td>73.582001</td>\n",
       "      <td>10682.0</td>\n",
       "      <td>0.0</td>\n",
       "    </tr>\n",
       "    <tr>\n",
       "      <th>2021-12-23 02:00:00+00:00</th>\n",
       "      <td>73.139999</td>\n",
       "      <td>73.603798</td>\n",
       "      <td>73.139999</td>\n",
       "      <td>73.603798</td>\n",
       "      <td>73.190002</td>\n",
       "      <td>73.650002</td>\n",
       "      <td>73.010002</td>\n",
       "      <td>73.550003</td>\n",
       "      <td>73.080002</td>\n",
       "      <td>73.599998</td>\n",
       "      <td>2828.0</td>\n",
       "      <td>0.0</td>\n",
       "    </tr>\n",
       "  </tbody>\n",
       "</table>\n",
       "</div>"
      ],
      "text/plain": [
       "                           Adj Close                 Close             \\\n",
       "                                CL=F      RUB=X       CL=F      RUB=X   \n",
       "2021-12-22 21:00:00+00:00  73.029999  73.623100  73.029999  73.623100   \n",
       "2021-12-22 23:00:00+00:00  73.080002  73.599297  73.080002  73.599297   \n",
       "2021-12-23 00:00:00+00:00  72.919998  73.618698  72.919998  73.618698   \n",
       "2021-12-23 01:00:00+00:00  73.080002  73.599998  73.080002  73.599998   \n",
       "2021-12-23 02:00:00+00:00  73.139999  73.603798  73.139999  73.603798   \n",
       "\n",
       "                                High                   Low             \\\n",
       "                                CL=F      RUB=X       CL=F      RUB=X   \n",
       "2021-12-22 21:00:00+00:00  73.160004  73.724998  72.900002  73.569000   \n",
       "2021-12-22 23:00:00+00:00  73.209999  73.654099  72.949997  73.421997   \n",
       "2021-12-23 00:00:00+00:00  73.089996  73.661598  72.870003  73.570000   \n",
       "2021-12-23 01:00:00+00:00  73.269997  73.648598  72.839996  73.582001   \n",
       "2021-12-23 02:00:00+00:00  73.190002  73.650002  73.010002  73.550003   \n",
       "\n",
       "                                Open              Volume        \n",
       "                                CL=F      RUB=X     CL=F RUB=X  \n",
       "2021-12-22 21:00:00+00:00  72.959999  73.720802      0.0   0.0  \n",
       "2021-12-22 23:00:00+00:00  73.029999  73.629204      0.0   0.0  \n",
       "2021-12-23 00:00:00+00:00  73.080002  73.572998   1998.0   0.0  \n",
       "2021-12-23 01:00:00+00:00  72.930000  73.582001  10682.0   0.0  \n",
       "2021-12-23 02:00:00+00:00  73.080002  73.599998   2828.0   0.0  "
      ]
     },
     "execution_count": 30,
     "metadata": {},
     "output_type": "execute_result"
    }
   ],
   "source": [
    "data_df.head(5)"
   ]
  },
  {
   "cell_type": "code",
   "execution_count": 31,
   "id": "56431dc6",
   "metadata": {
    "scrolled": true
   },
   "outputs": [
    {
     "data": {
      "text/html": [
       "<div>\n",
       "<style scoped>\n",
       "    .dataframe tbody tr th:only-of-type {\n",
       "        vertical-align: middle;\n",
       "    }\n",
       "\n",
       "    .dataframe tbody tr th {\n",
       "        vertical-align: top;\n",
       "    }\n",
       "\n",
       "    .dataframe thead th {\n",
       "        text-align: right;\n",
       "    }\n",
       "</style>\n",
       "<table border=\"1\" class=\"dataframe\">\n",
       "  <thead>\n",
       "    <tr style=\"text-align: right;\">\n",
       "      <th></th>\n",
       "      <th>CL=F</th>\n",
       "      <th>RUB=X</th>\n",
       "    </tr>\n",
       "  </thead>\n",
       "  <tbody>\n",
       "    <tr>\n",
       "      <th>CL=F</th>\n",
       "      <td>1.000000</td>\n",
       "      <td>0.822388</td>\n",
       "    </tr>\n",
       "    <tr>\n",
       "      <th>RUB=X</th>\n",
       "      <td>0.822388</td>\n",
       "      <td>1.000000</td>\n",
       "    </tr>\n",
       "  </tbody>\n",
       "</table>\n",
       "</div>"
      ],
      "text/plain": [
       "           CL=F     RUB=X\n",
       "CL=F   1.000000  0.822388\n",
       "RUB=X  0.822388  1.000000"
      ]
     },
     "execution_count": 31,
     "metadata": {},
     "output_type": "execute_result"
    }
   ],
   "source": [
    "# calculate correlation without shift\n",
    "sum_corr = data_df[track].corr().sum().sort_values(ascending=True).index.values\n",
    "data_df[track][sum_corr].corr()"
   ]
  },
  {
   "cell_type": "code",
   "execution_count": 32,
   "id": "5b331977",
   "metadata": {},
   "outputs": [
    {
     "data": {
      "text/html": [
       "<div>\n",
       "<style scoped>\n",
       "    .dataframe tbody tr th:only-of-type {\n",
       "        vertical-align: middle;\n",
       "    }\n",
       "\n",
       "    .dataframe tbody tr th {\n",
       "        vertical-align: top;\n",
       "    }\n",
       "\n",
       "    .dataframe thead th {\n",
       "        text-align: right;\n",
       "    }\n",
       "</style>\n",
       "<table border=\"1\" class=\"dataframe\">\n",
       "  <thead>\n",
       "    <tr style=\"text-align: right;\">\n",
       "      <th></th>\n",
       "      <th>CL=F</th>\n",
       "      <th>RUB=X</th>\n",
       "    </tr>\n",
       "  </thead>\n",
       "  <tbody>\n",
       "    <tr>\n",
       "      <th>2021-12-22 21:00:00+00:00</th>\n",
       "      <td>73.029999</td>\n",
       "      <td>73.623100</td>\n",
       "    </tr>\n",
       "    <tr>\n",
       "      <th>2021-12-22 23:00:00+00:00</th>\n",
       "      <td>73.080002</td>\n",
       "      <td>73.599297</td>\n",
       "    </tr>\n",
       "    <tr>\n",
       "      <th>2021-12-23 00:00:00+00:00</th>\n",
       "      <td>72.919998</td>\n",
       "      <td>73.618698</td>\n",
       "    </tr>\n",
       "    <tr>\n",
       "      <th>2021-12-23 01:00:00+00:00</th>\n",
       "      <td>73.080002</td>\n",
       "      <td>73.599998</td>\n",
       "    </tr>\n",
       "    <tr>\n",
       "      <th>2021-12-23 02:00:00+00:00</th>\n",
       "      <td>73.139999</td>\n",
       "      <td>73.603798</td>\n",
       "    </tr>\n",
       "    <tr>\n",
       "      <th>2021-12-23 03:00:00+00:00</th>\n",
       "      <td>72.889999</td>\n",
       "      <td>73.502998</td>\n",
       "    </tr>\n",
       "    <tr>\n",
       "      <th>2021-12-23 04:00:00+00:00</th>\n",
       "      <td>72.949997</td>\n",
       "      <td>73.548302</td>\n",
       "    </tr>\n",
       "    <tr>\n",
       "      <th>2021-12-23 05:00:00+00:00</th>\n",
       "      <td>72.919998</td>\n",
       "      <td>73.536003</td>\n",
       "    </tr>\n",
       "    <tr>\n",
       "      <th>2021-12-23 06:00:00+00:00</th>\n",
       "      <td>72.849998</td>\n",
       "      <td>73.529999</td>\n",
       "    </tr>\n",
       "    <tr>\n",
       "      <th>2021-12-23 07:00:00+00:00</th>\n",
       "      <td>72.769997</td>\n",
       "      <td>73.323097</td>\n",
       "    </tr>\n",
       "  </tbody>\n",
       "</table>\n",
       "</div>"
      ],
      "text/plain": [
       "                                CL=F      RUB=X\n",
       "2021-12-22 21:00:00+00:00  73.029999  73.623100\n",
       "2021-12-22 23:00:00+00:00  73.080002  73.599297\n",
       "2021-12-23 00:00:00+00:00  72.919998  73.618698\n",
       "2021-12-23 01:00:00+00:00  73.080002  73.599998\n",
       "2021-12-23 02:00:00+00:00  73.139999  73.603798\n",
       "2021-12-23 03:00:00+00:00  72.889999  73.502998\n",
       "2021-12-23 04:00:00+00:00  72.949997  73.548302\n",
       "2021-12-23 05:00:00+00:00  72.919998  73.536003\n",
       "2021-12-23 06:00:00+00:00  72.849998  73.529999\n",
       "2021-12-23 07:00:00+00:00  72.769997  73.323097"
      ]
     },
     "execution_count": 32,
     "metadata": {},
     "output_type": "execute_result"
    }
   ],
   "source": [
    "df = data_df[\"Close\"]\n",
    "df.head(10)"
   ]
  },
  {
   "cell_type": "code",
   "execution_count": null,
   "id": "60a1e408",
   "metadata": {},
   "outputs": [],
   "source": []
  },
  {
   "cell_type": "code",
   "execution_count": 33,
   "id": "d8503ce8",
   "metadata": {},
   "outputs": [],
   "source": [
    "# save this df to csv\n",
    "df = df.to_csv('df.csv')"
   ]
  },
  {
   "cell_type": "code",
   "execution_count": 34,
   "id": "d89626a4",
   "metadata": {},
   "outputs": [
    {
     "name": "stdout",
     "output_type": "stream",
     "text": [
      "Shift: 15 * 1h\n",
      "Correlation after shift: 0.8147645196083712\n",
      "0.0% improvement after shift\n"
     ]
    }
   ],
   "source": [
    "# shift Ruble to Crude and find optimum shift \n",
    "n = -10\n",
    "d = {}\n",
    "for i in range(25):\n",
    "    df = pd.read_csv('df.csv')\n",
    "    df['RUB=X'] = df[\"RUB=X\"].shift(n)\n",
    "    df = df.dropna()\n",
    "    \n",
    "    sum_corr = df.corr().sum().sort_values(ascending=True).index.values\n",
    "\n",
    "    cor = df[sum_corr].corr()\n",
    "    \n",
    "    c = cor['CL=F'].iloc[-1]\n",
    "    \n",
    "    n += 1\n",
    "    \n",
    "    d[n] = c\n",
    "\n",
    "all_values = d.values()\n",
    "min_value = min(all_values)\n",
    "min_key = min(d, key=d.get)\n",
    "\n",
    "improvement = str(round(100 - (((cor['CL=F'].iloc[-1]) / min_value) * 100),4)) + \"% improvement after shift\"\n",
    "result = \"Shift: \" + str(min_key) + \" * \" + interval + \"\\n\" + \"Correlation after shift: \" + str(min_value)\n",
    "\n",
    "print(result)\n",
    "print(improvement)"
   ]
  },
  {
   "cell_type": "code",
   "execution_count": null,
   "id": "302460da",
   "metadata": {},
   "outputs": [],
   "source": []
  },
  {
   "cell_type": "code",
   "execution_count": 35,
   "id": "1e84d2be",
   "metadata": {},
   "outputs": [
    {
     "data": {
      "text/html": [
       "<div>\n",
       "<style scoped>\n",
       "    .dataframe tbody tr th:only-of-type {\n",
       "        vertical-align: middle;\n",
       "    }\n",
       "\n",
       "    .dataframe tbody tr th {\n",
       "        vertical-align: top;\n",
       "    }\n",
       "\n",
       "    .dataframe thead th {\n",
       "        text-align: right;\n",
       "    }\n",
       "</style>\n",
       "<table border=\"1\" class=\"dataframe\">\n",
       "  <thead>\n",
       "    <tr style=\"text-align: right;\">\n",
       "      <th></th>\n",
       "      <th>CL=F</th>\n",
       "      <th>RUB=X</th>\n",
       "    </tr>\n",
       "  </thead>\n",
       "  <tbody>\n",
       "    <tr>\n",
       "      <th>CL=F</th>\n",
       "      <td>1.000000</td>\n",
       "      <td>0.822388</td>\n",
       "    </tr>\n",
       "    <tr>\n",
       "      <th>RUB=X</th>\n",
       "      <td>0.822388</td>\n",
       "      <td>1.000000</td>\n",
       "    </tr>\n",
       "  </tbody>\n",
       "</table>\n",
       "</div>"
      ],
      "text/plain": [
       "           CL=F     RUB=X\n",
       "CL=F   1.000000  0.822388\n",
       "RUB=X  0.822388  1.000000"
      ]
     },
     "execution_count": 35,
     "metadata": {},
     "output_type": "execute_result"
    }
   ],
   "source": [
    "# shift Ruble \n",
    "df = pd.read_csv('df.csv')\n",
    "\n",
    "df['RUB=X'] = df[\"RUB=X\"].shift(0)\n",
    "df = df.dropna()\n",
    "\n",
    "# calculate shifted correlation\n",
    "sum_corr = df.corr().sum().sort_values(ascending=True).index.values\n",
    "\n",
    "cor = df[sum_corr].corr()\n",
    "cor"
   ]
  },
  {
   "cell_type": "code",
   "execution_count": null,
   "id": "8945c8ed",
   "metadata": {},
   "outputs": [],
   "source": []
  },
  {
   "cell_type": "code",
   "execution_count": 36,
   "id": "9d547e3d",
   "metadata": {},
   "outputs": [
    {
     "data": {
      "image/png": "[encoded data removed]",
      "text/plain": [
       "<Figure size 1008x720 with 1 Axes>"
      ]
     },
     "metadata": {
      "needs_background": "light"
     },
     "output_type": "display_data"
    }
   ],
   "source": [
    "ax = df.plot.scatter(x='CL=F', y='RUB=X', c='DarkBlue', figsize=(14,10))\n",
    "\n",
    "ax.set_xlabel('Crude Oil', fontsize=15)\n",
    "ax.set_ylabel(\"USD/RUB\", fontsize=15)\n",
    "ax.set_title('USD/RUB Crude Oil Correlation')\n",
    "\n",
    "ax.grid(True)\n",
    "\n",
    "plt.savefig(\"correlation.png\")"
   ]
  },
  {
   "cell_type": "code",
   "execution_count": null,
   "id": "20139a77",
   "metadata": {},
   "outputs": [],
   "source": []
  },
  {
   "cell_type": "code",
   "execution_count": 37,
   "id": "2dcb2bb7",
   "metadata": {},
   "outputs": [],
   "source": [
    "df_pct = pd.DataFrame()\n",
    "df_pct[\"CL=F\"] = df[\"CL=F\"]\n",
    "df_pct[\"RUB=X\"] = df[\"RUB=X\"]\n",
    "df_pct = df_pct.pct_change()"
   ]
  },
  {
   "cell_type": "code",
   "execution_count": 38,
   "id": "2ad045f8",
   "metadata": {},
   "outputs": [
    {
     "data": {
      "text/html": [
       "<div>\n",
       "<style scoped>\n",
       "    .dataframe tbody tr th:only-of-type {\n",
       "        vertical-align: middle;\n",
       "    }\n",
       "\n",
       "    .dataframe tbody tr th {\n",
       "        vertical-align: top;\n",
       "    }\n",
       "\n",
       "    .dataframe thead th {\n",
       "        text-align: right;\n",
       "    }\n",
       "</style>\n",
       "<table border=\"1\" class=\"dataframe\">\n",
       "  <thead>\n",
       "    <tr style=\"text-align: right;\">\n",
       "      <th></th>\n",
       "      <th>CL=F</th>\n",
       "      <th>RUB=X</th>\n",
       "    </tr>\n",
       "  </thead>\n",
       "  <tbody>\n",
       "    <tr>\n",
       "      <th>0</th>\n",
       "      <td>NaN</td>\n",
       "      <td>NaN</td>\n",
       "    </tr>\n",
       "    <tr>\n",
       "      <th>1</th>\n",
       "      <td>0.000685</td>\n",
       "      <td>-0.000323</td>\n",
       "    </tr>\n",
       "    <tr>\n",
       "      <th>2</th>\n",
       "      <td>-0.002189</td>\n",
       "      <td>0.000264</td>\n",
       "    </tr>\n",
       "    <tr>\n",
       "      <th>3</th>\n",
       "      <td>0.002194</td>\n",
       "      <td>-0.000254</td>\n",
       "    </tr>\n",
       "    <tr>\n",
       "      <th>4</th>\n",
       "      <td>0.000821</td>\n",
       "      <td>0.000052</td>\n",
       "    </tr>\n",
       "    <tr>\n",
       "      <th>...</th>\n",
       "      <td>...</td>\n",
       "      <td>...</td>\n",
       "    </tr>\n",
       "    <tr>\n",
       "      <th>1383</th>\n",
       "      <td>-0.002501</td>\n",
       "      <td>0.012593</td>\n",
       "    </tr>\n",
       "    <tr>\n",
       "      <th>1384</th>\n",
       "      <td>-0.001504</td>\n",
       "      <td>0.001475</td>\n",
       "    </tr>\n",
       "    <tr>\n",
       "      <th>1385</th>\n",
       "      <td>-0.004922</td>\n",
       "      <td>0.005891</td>\n",
       "    </tr>\n",
       "    <tr>\n",
       "      <th>1386</th>\n",
       "      <td>0.003331</td>\n",
       "      <td>-0.002928</td>\n",
       "    </tr>\n",
       "    <tr>\n",
       "      <th>1387</th>\n",
       "      <td>0.000201</td>\n",
       "      <td>0.001468</td>\n",
       "    </tr>\n",
       "  </tbody>\n",
       "</table>\n",
       "<p>1388 rows × 2 columns</p>\n",
       "</div>"
      ],
      "text/plain": [
       "          CL=F     RUB=X\n",
       "0          NaN       NaN\n",
       "1     0.000685 -0.000323\n",
       "2    -0.002189  0.000264\n",
       "3     0.002194 -0.000254\n",
       "4     0.000821  0.000052\n",
       "...        ...       ...\n",
       "1383 -0.002501  0.012593\n",
       "1384 -0.001504  0.001475\n",
       "1385 -0.004922  0.005891\n",
       "1386  0.003331 -0.002928\n",
       "1387  0.000201  0.001468\n",
       "\n",
       "[1388 rows x 2 columns]"
      ]
     },
     "execution_count": 38,
     "metadata": {},
     "output_type": "execute_result"
    }
   ],
   "source": [
    "df_pct"
   ]
  },
  {
   "cell_type": "code",
   "execution_count": null,
   "id": "1ccbd344",
   "metadata": {},
   "outputs": [],
   "source": []
  },
  {
   "cell_type": "code",
   "execution_count": 39,
   "id": "464b4482",
   "metadata": {},
   "outputs": [
    {
     "data": {
      "image/png": "[encoded data removed]",
      "text/plain": [
       "<Figure size 1008x720 with 1 Axes>"
      ]
     },
     "metadata": {
      "needs_background": "light"
     },
     "output_type": "display_data"
    }
   ],
   "source": [
    "ax = df_pct.plot.scatter(x='CL=F', y='RUB=X', c='DarkBlue', figsize=(14,10))\n",
    "\n",
    "ax.set_xlabel('Crude Oil', fontsize=15)\n",
    "ax.set_ylabel(\"USD/RUB\", fontsize=15)\n",
    "ax.set_title('USD/RUB Crude Oil Correlation')\n",
    "\n",
    "ax.grid(True)\n",
    "\n",
    "plt.savefig(\"correlation.png\")"
   ]
  },
  {
   "cell_type": "code",
   "execution_count": null,
   "id": "fbc16121",
   "metadata": {},
   "outputs": [],
   "source": []
  },
  {
   "cell_type": "code",
   "execution_count": 40,
   "id": "4971c923",
   "metadata": {},
   "outputs": [
    {
     "data": {
      "image/png": "[encoded data removed]",
      "text/plain": [
       "<Figure size 700x500 with 1 Axes>"
      ]
     },
     "metadata": {
      "needs_background": "light"
     },
     "output_type": "display_data"
    }
   ],
   "source": [
    "l = df_pct['RUB=X'].to_list()\n",
    "a = sorted(l, key=float)\n",
    "len(a)\n",
    "n = list(range(len(a)))\n",
    "\n",
    "\n",
    "%matplotlib inline\n",
    "plt.rcParams.update({'figure.figsize':(7,5), 'figure.dpi':100})\n",
    "\n",
    "# Plot Histogram on x\n",
    "\n",
    "plt.hist(a, bins=50)\n",
    "plt.gca().set(title='Frequency Histogram', ylabel='Frequency');"
   ]
  },
  {
   "cell_type": "code",
   "execution_count": null,
   "id": "7bc88e4b",
   "metadata": {},
   "outputs": [],
   "source": []
  },
  {
   "cell_type": "code",
   "execution_count": null,
   "id": "e3c53876",
   "metadata": {},
   "outputs": [],
   "source": []
  },
  {
   "cell_type": "code",
   "execution_count": null,
   "id": "aa516f67",
   "metadata": {},
   "outputs": [],
   "source": []
  },
  {
   "cell_type": "code",
   "execution_count": null,
   "id": "330c5a79",
   "metadata": {},
   "outputs": [],
   "source": []
  },
  {
   "cell_type": "code",
   "execution_count": null,
   "id": "abe02532",
   "metadata": {},
   "outputs": [],
   "source": []
  },
  {
   "cell_type": "code",
   "execution_count": null,
   "id": "b5f36c14",
   "metadata": {},
   "outputs": [],
   "source": []
  },
  {
   "cell_type": "code",
   "execution_count": null,
   "id": "bb6f8d4f",
   "metadata": {},
   "outputs": [],
   "source": []
  }
 ],
 "metadata": {
  "kernelspec": {
   "display_name": "Python 3",
   "language": "python",
   "name": "python3"
  },
  "language_info": {
   "codemirror_mode": {
    "name": "ipython",
    "version": 3
   },
   "file_extension": ".py",
   "mimetype": "text/x-python",
   "name": "python",
   "nbconvert_exporter": "python",
   "pygments_lexer": "ipython3",
   "version": "3.8.10"
  }
 },
 "nbformat": 4,
 "nbformat_minor": 5
}
