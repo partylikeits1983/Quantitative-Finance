{
 "cells": [
  {
   "cell_type": "code",
   "execution_count": 2,
   "id": "occasional-country",
   "metadata": {},
   "outputs": [
    {
     "data": {
      "text/html": [
       "<div>\n",
       "<style scoped>\n",
       "    .dataframe tbody tr th:only-of-type {\n",
       "        vertical-align: middle;\n",
       "    }\n",
       "\n",
       "    .dataframe tbody tr th {\n",
       "        vertical-align: top;\n",
       "    }\n",
       "\n",
       "    .dataframe thead th {\n",
       "        text-align: right;\n",
       "    }\n",
       "</style>\n",
       "<table border=\"1\" class=\"dataframe\">\n",
       "  <thead>\n",
       "    <tr style=\"text-align: right;\">\n",
       "      <th></th>\n",
       "      <th>1 MO</th>\n",
       "      <th>2 MO</th>\n",
       "      <th>3 MO</th>\n",
       "      <th>6 MO</th>\n",
       "      <th>1 YR</th>\n",
       "      <th>2 YR</th>\n",
       "      <th>3 YR</th>\n",
       "      <th>5 YR</th>\n",
       "      <th>7 YR</th>\n",
       "      <th>10 YR</th>\n",
       "      <th>20 YR</th>\n",
       "      <th>30 YR</th>\n",
       "    </tr>\n",
       "    <tr>\n",
       "      <th>Date</th>\n",
       "      <th></th>\n",
       "      <th></th>\n",
       "      <th></th>\n",
       "      <th></th>\n",
       "      <th></th>\n",
       "      <th></th>\n",
       "      <th></th>\n",
       "      <th></th>\n",
       "      <th></th>\n",
       "      <th></th>\n",
       "      <th></th>\n",
       "      <th></th>\n",
       "    </tr>\n",
       "  </thead>\n",
       "  <tbody>\n",
       "    <tr>\n",
       "      <th>2021-09-03</th>\n",
       "      <td>0.04</td>\n",
       "      <td>0.07</td>\n",
       "      <td>0.05</td>\n",
       "      <td>0.05</td>\n",
       "      <td>0.08</td>\n",
       "      <td>0.21</td>\n",
       "      <td>0.42</td>\n",
       "      <td>0.78</td>\n",
       "      <td>1.09</td>\n",
       "      <td>1.33</td>\n",
       "      <td>1.87</td>\n",
       "      <td>1.94</td>\n",
       "    </tr>\n",
       "    <tr>\n",
       "      <th>2021-09-07</th>\n",
       "      <td>0.04</td>\n",
       "      <td>0.07</td>\n",
       "      <td>0.05</td>\n",
       "      <td>0.06</td>\n",
       "      <td>0.08</td>\n",
       "      <td>0.22</td>\n",
       "      <td>0.45</td>\n",
       "      <td>0.82</td>\n",
       "      <td>1.14</td>\n",
       "      <td>1.38</td>\n",
       "      <td>1.91</td>\n",
       "      <td>1.99</td>\n",
       "    </tr>\n",
       "    <tr>\n",
       "      <th>2021-09-08</th>\n",
       "      <td>0.05</td>\n",
       "      <td>0.06</td>\n",
       "      <td>0.05</td>\n",
       "      <td>0.06</td>\n",
       "      <td>0.08</td>\n",
       "      <td>0.22</td>\n",
       "      <td>0.43</td>\n",
       "      <td>0.81</td>\n",
       "      <td>1.11</td>\n",
       "      <td>1.35</td>\n",
       "      <td>1.88</td>\n",
       "      <td>1.95</td>\n",
       "    </tr>\n",
       "    <tr>\n",
       "      <th>2021-09-09</th>\n",
       "      <td>0.07</td>\n",
       "      <td>0.06</td>\n",
       "      <td>0.04</td>\n",
       "      <td>0.05</td>\n",
       "      <td>0.07</td>\n",
       "      <td>0.23</td>\n",
       "      <td>0.43</td>\n",
       "      <td>0.79</td>\n",
       "      <td>1.08</td>\n",
       "      <td>1.30</td>\n",
       "      <td>1.83</td>\n",
       "      <td>1.90</td>\n",
       "    </tr>\n",
       "    <tr>\n",
       "      <th>2021-09-10</th>\n",
       "      <td>0.06</td>\n",
       "      <td>0.06</td>\n",
       "      <td>0.05</td>\n",
       "      <td>0.06</td>\n",
       "      <td>0.08</td>\n",
       "      <td>0.23</td>\n",
       "      <td>0.45</td>\n",
       "      <td>0.82</td>\n",
       "      <td>1.12</td>\n",
       "      <td>1.35</td>\n",
       "      <td>1.86</td>\n",
       "      <td>1.94</td>\n",
       "    </tr>\n",
       "  </tbody>\n",
       "</table>\n",
       "</div>"
      ],
      "text/plain": [
       "            1 MO  2 MO  3 MO  6 MO  1 YR  2 YR  3 YR  5 YR  7 YR  10 YR  \\\n",
       "Date                                                                      \n",
       "2021-09-03  0.04  0.07  0.05  0.05  0.08  0.21  0.42  0.78  1.09   1.33   \n",
       "2021-09-07  0.04  0.07  0.05  0.06  0.08  0.22  0.45  0.82  1.14   1.38   \n",
       "2021-09-08  0.05  0.06  0.05  0.06  0.08  0.22  0.43  0.81  1.11   1.35   \n",
       "2021-09-09  0.07  0.06  0.04  0.05  0.07  0.23  0.43  0.79  1.08   1.30   \n",
       "2021-09-10  0.06  0.06  0.05  0.06  0.08  0.23  0.45  0.82  1.12   1.35   \n",
       "\n",
       "            20 YR  30 YR  \n",
       "Date                      \n",
       "2021-09-03   1.87   1.94  \n",
       "2021-09-07   1.91   1.99  \n",
       "2021-09-08   1.88   1.95  \n",
       "2021-09-09   1.83   1.90  \n",
       "2021-09-10   1.86   1.94  "
      ]
     },
     "execution_count": 2,
     "metadata": {},
     "output_type": "execute_result"
    }
   ],
   "source": [
    "import matplotlib.pyplot as plt\n",
    "import pandas as pd\n",
    "import quandl\n",
    "import quandl as ql\n",
    "import json\n",
    "\n",
    "df = ql.get(\"USTREASURY/YIELD\")\n",
    "df.tail()"
   ]
  },
  {
   "cell_type": "code",
   "execution_count": 15,
   "id": "expensive-hygiene",
   "metadata": {},
   "outputs": [],
   "source": [
    "df = df.to_json(r'/home/ubuntu/Desktop/yield.json', orient=\"split\")"
   ]
  },
  {
   "cell_type": "code",
   "execution_count": null,
   "id": "inner-characterization",
   "metadata": {},
   "outputs": [],
   "source": []
  },
  {
   "cell_type": "code",
   "execution_count": 3,
   "id": "gorgeous-snapshot",
   "metadata": {},
   "outputs": [
    {
     "data": {
      "text/plain": [
       "<AxesSubplot:title={'center':'Treasury Yield Curve, %'}>"
      ]
     },
     "execution_count": 3,
     "metadata": {},
     "output_type": "execute_result"
    },
    {
     "data": {
      "image/png": "[encoded data removed]",
      "text/plain": [
       "<Figure size 432x288 with 1 Axes>"
      ]
     },
     "metadata": {
      "needs_background": "light"
     },
     "output_type": "display_data"
    }
   ],
   "source": [
    "import matplotlib.pyplot as plt\n",
    "import pandas as pd\n",
    "import quandl as ql\n",
    "#import Quandl as ql\n",
    "%matplotlib inline\n",
    "\n",
    "yield_ = ql.get(\"USTREASURY/YIELD\")\n",
    "today = yield_.iloc[-1,:]\n",
    "month_ago = yield_.iloc[-30,:]\n",
    "df = pd.concat([today, month_ago], axis=1)\n",
    "df.columns = ['today', 'month_ago']\n",
    "\n",
    "df.plot(style={'today': 'ro-', 'month_ago': 'bx--'}\n",
    "        ,title='Treasury Yield Curve, %')"
   ]
  },
  {
   "cell_type": "code",
   "execution_count": null,
   "id": "58a22739",
   "metadata": {},
   "outputs": [],
   "source": []
  }
 ],
 "metadata": {
  "kernelspec": {
   "display_name": "Python 3",
   "language": "python",
   "name": "python3"
  },
  "language_info": {
   "codemirror_mode": {
    "name": "ipython",
    "version": 3
   },
   "file_extension": ".py",
   "mimetype": "text/x-python",
   "name": "python",
   "nbconvert_exporter": "python",
   "pygments_lexer": "ipython3",
   "version": "3.8.10"
  }
 },
 "nbformat": 4,
 "nbformat_minor": 5
}
