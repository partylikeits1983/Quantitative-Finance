{
 "cells": [
  {
   "cell_type": "markdown",
   "metadata": {
    "id": "3j0wdS1VoDoj"
   },
   "source": [
    "## Heston Model:"
   ]
  },
  {
   "cell_type": "markdown",
   "metadata": {
    "id": "dEFLRNXul4gL"
   },
   "source": [
    "\n",
    "\\begin{cases} \n",
    "dS_t = \\mu S_t\\;dt\\:+\\:\\sqrt{\\nu_t}S_t\\;dW_1 \\\\\n",
    "d\\nu_t = \\theta(\\omega\\:-\\nu_t)dt + \\xi\\sqrt{\\nu_t}\\:dW_2 \n",
    "\\\\\n",
    "(dW_1, dW_2) = \\rho\\:dt\n",
    "\\end{cases}\n",
    "\n",
    "\n",
    "\n",
    "\n",
    "\n"
   ]
  },
  {
   "cell_type": "code",
   "execution_count": null,
   "metadata": {
    "id": "RJaSyUYhSAR9"
   },
   "outputs": [],
   "source": [
    "import numpy as np\n",
    "i = complex(0, 1)\n",
    "\n",
    "# To be used in the Heston pricer\n",
    "def fHeston(s, St, K, r, T, sigma, kappa, theta, volvol, rho):\n",
    "    # To be used a lot\n",
    "    prod = rho * sigma * i * s\n",
    "    # Calculate d\n",
    "    d1 = (prod - kappa)**2\n",
    "    d2 = (sigma**2) * (i * s + s**2)\n",
    "    d = np.sqrt(d1 + d2)\n",
    "    # Calculate g\n",
    "    g1 = kappa - prod - d\n",
    "    g2 = kappa - prod + d\n",
    "    g = g1 / g2\n",
    "    # Calculate first exponential\n",
    "    exp1 = np.exp(np.log(St) * i * s) * np.exp(i * s * r * T)\n",
    "    exp2 = 1 - g * np.exp(-d * T)\n",
    "    exp3 = 1 - g\n",
    "    mainExp1 = exp1 * np.power(exp2 / exp3, -2 * theta * kappa/(sigma**2))\n",
    "    # Calculate second exponential\n",
    "    exp4 = theta * kappa * T / (sigma**2)\n",
    "    exp5 = volvol / (sigma**2)\n",
    "    exp6 = (1 - np.exp(-d * T)) / (1 - g * np.exp(-d * T))\n",
    "    mainExp2 = np.exp((exp4 * g1) + (exp5 * g1 * exp6))\n",
    "    return (mainExp1 * mainExp2)\n",
    "\n",
    "# Heston Pricer\n",
    "def priceHestonMid(St, K, r, T, sigma, kappa, theta, volvol, rho):\n",
    "    P, iterations, maxNumber = 0, 1000, 100\n",
    "    ds = maxNumber / iterations\n",
    "    element1 = 0.5 * (St - K * np.exp(-r * T))\n",
    "    # Calculate the complex integral\n",
    "    # Using j instead of i to avoid confusion\n",
    "    for j in range(1, iterations):\n",
    "        s1 = ds * (2 * j + 1) / 2\n",
    "        s2 = s1 - i\n",
    "        numerator1 = fHeston(s2, St, K, r, T, \n",
    "                             sigma, kappa, theta, volvol, rho)\n",
    "        numerator2 = K * fHeston(s1, St, K, r, T, \n",
    "                               sigma, kappa, theta, volvol, rho)\n",
    "        denominator = np.exp(np.log(K) * i * s1) * i * s1\n",
    "        P += ds * (numerator1 - numerator2) / denominator\n",
    "    element2 = P / np.pi\n",
    "    return np.real((element1 + element2))"
   ]
  },
  {
   "cell_type": "code",
   "execution_count": null,
   "metadata": {
    "id": "QW-l_wbRSFQS"
   },
   "outputs": [],
   "source": [
    "# current price\n",
    "St = 100\n",
    "# strike\n",
    "K = 80\n",
    "# risk free interest rate\n",
    "r = 0.1\n",
    "# time to maturity\n",
    "T = 1\n",
    "# volatility \n",
    "sigma = 0.8\n",
    "# kappa = ?\n",
    "kappa = 0.2\n",
    "# theta = ?\n",
    "theta = 0.1\n",
    "# volatility of volatility\n",
    "volvol = 0.3\n",
    "# rho = ?\n",
    "rho = 0.4"
   ]
  },
  {
   "cell_type": "code",
   "execution_count": null,
   "metadata": {
    "colab": {
     "base_uri": "https://localhost:8080/"
    },
    "id": "Dav0B4ONSGyH",
    "outputId": "97fb80fb-6421-48a7-8735-7e4f564aceb3"
   },
   "outputs": [
    {
     "data": {
      "text/plain": [
       "31.98973380102906"
      ]
     },
     "execution_count": 23,
     "metadata": {},
     "output_type": "execute_result"
    }
   ],
   "source": [
    "priceHestonMid(St, K, r, T, sigma, kappa, theta, volvol, rho)"
   ]
  },
  {
   "cell_type": "code",
   "execution_count": null,
   "metadata": {
    "id": "9on-bO7TSI7N"
   },
   "outputs": [],
   "source": []
  }
 ],
 "metadata": {
  "colab": {
   "collapsed_sections": [],
   "name": "HestonModel.ipynb",
   "provenance": []
  },
  "kernelspec": {
   "display_name": "Python 3",
   "language": "python",
   "name": "python3"
  },
  "language_info": {
   "codemirror_mode": {
    "name": "ipython",
    "version": 3
   },
   "file_extension": ".py",
   "mimetype": "text/x-python",
   "name": "python",
   "nbconvert_exporter": "python",
   "pygments_lexer": "ipython3",
   "version": "3.8.10"
  }
 },
 "nbformat": 4,
 "nbformat_minor": 1
}
